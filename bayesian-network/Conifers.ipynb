{
 "cells": [
  {
   "cell_type": "markdown",
   "metadata": {},
   "source": [
    "# Conifer classifier\n"
   ]
  },
  {
   "cell_type": "markdown",
   "source": [
    "## Imports"
   ],
   "metadata": {
    "collapsed": false
   }
  },
  {
   "cell_type": "code",
   "execution_count": 1,
   "metadata": {},
   "outputs": [
    {
     "name": "stderr",
     "output_type": "stream",
     "text": [
      "C:\\Users\\Maciek\\AppData\\Local\\Programs\\Python\\Python310\\lib\\site-packages\\pgmpy\\global_vars.py:11: UserWarning: Failed to initialize NumPy: module compiled against API version 0x10 but this version of numpy is 0xf (Triggered internally at ..\\torch\\csrc\\utils\\tensor_numpy.cpp:77.)\n",
      "  device = torch.device(\"cpu\")\n"
     ]
    }
   ],
   "source": [
    "# Importing Library\n",
    "# !pip install pgmpy\n",
    "from pgmpy.models import BayesianNetwork\n",
    "from pgmpy.inference import VariableElimination\n",
    "\n",
    "# Defining the parameters using CPT\n",
    "from pgmpy.factors.discrete import TabularCPD"
   ]
  },
  {
   "cell_type": "markdown",
   "source": [
    "## Model"
   ],
   "metadata": {
    "collapsed": false
   }
  },
  {
   "cell_type": "code",
   "execution_count": 2,
   "metadata": {},
   "outputs": [],
   "source": [
    "# Defining network structure\n",
    "\n",
    "conifer_model = BayesianNetwork(\n",
    "    [\n",
    "        (\"FruitType\", \"BerryTree\"),\n",
    "        (\"Color\", \"BerryTree\"),\n",
    "        (\"FruitType\", \"ConeShapeHint\"),\n",
    "        (\"ConeShape\", \"ConeShapeHint\"),\n",
    "        (\"ConeShapeHint\", \"FirSpruce\"),\n",
    "        (\"Orientation\", \"FirSpruce\"),\n",
    "        (\"ConeShapeHint\", \"NeedleCountHint\"),\n",
    "        (\"NeedleCount\", \"NeedleCountHint\"),\n",
    "        (\"NeedleCountHint\", \"Pines\"),\n",
    "        (\"PlantShape\", \"Pines\"),\n",
    "        (\"ConeSize\", \"Pines\"),\n",
    "        (\"FruitType\", \"Pseudotsuga\"),\n",
    "        (\"NeedleScent\", \"Pseudotsuga\"),\n",
    "        (\"NeedleCount\", \"ConeSeedHint\"),\n",
    "        (\"ConeSeed\", \"ConeSeedHint\")\n",
    "    ]\n",
    ")\n",
    "\n",
    "cpd_fruit_type = TabularCPD(\n",
    "    variable=\"FruitType\",\n",
    "    variable_card=2,\n",
    "    values=[[0.1], [0.9]],\n",
    "    state_names={\"FruitType\": [\"Berry\", \"Cone\"]}\n",
    ")\n",
    "\n",
    "cpd_color = TabularCPD(\n",
    "    variable=\"Color\",\n",
    "    variable_card=2,\n",
    "    values=[[0.05], [0.95]],\n",
    "    state_names={\"Color\": [\"Red\", \"Blue\"]}\n",
    ")\n",
    "\n",
    "cpd_berry_tree = TabularCPD(\n",
    "    variable=\"BerryTree\",\n",
    "    variable_card=3,\n",
    "    values=[[0.9, 0.05, 0.001, 0.001], # [[Yew | (berry, red), Yew | (berry, blue), Yew | (cone, red), Yew | (cone, blue)],\n",
    "            [0.03, 0.9, 0.001, 0.001], # [Juniper | (berry, red), Juniper | (berry, blue), Juniper | (cone, red), Juniper | (cone, blue)]]\n",
    "            [0.07, 0.05, 0.998, 0.998]],  \n",
    "    evidence=[\"FruitType\", \"Color\"],\n",
    "    evidence_card=[2, 2],\n",
    "    state_names={\"BerryTree\": [\"Yew\", \"Juniper\", \"Other\"], \n",
    "                 \"FruitType\": [\"Berry\", \"Cone\"], \n",
    "                 \"Color\": [\"Red\", \"Blue\"]}\n",
    ")\n",
    "\n",
    "cpd_cone_shape = TabularCPD(\n",
    "    variable=\"ConeShape\",\n",
    "    variable_card=2,\n",
    "    values=[[0.2], [0.8]],\n",
    "    state_names={\"ConeShape\": [\"Elongated\", \"Oval\"]}\n",
    ")\n",
    "\n",
    "cpd_cone_shape_hint = TabularCPD(\n",
    "    variable=\"ConeShapeHint\",\n",
    "    variable_card=2,\n",
    "    values=[[0.01, 0.01, 0.96, 0.1], # [[FirSpruceHint | (berry, elongated), FirSpruceHint | (berry, oval), FirSpruceHint | (cone, elongated), FirSpruceHint | (cone, oval)]\n",
    "            [0.99, 0.99, 0.04, 0.9]],      # [PineLarchHint | (berry, elongated), PineLarchHint | (berry, oval), PineLarchHint | (cone, elongated), PineLarchHint | (cone, oval)]]\n",
    "    evidence=[\"FruitType\", \"ConeShape\"],\n",
    "    evidence_card=[2,2],\n",
    "    state_names={\"ConeShapeHint\": [\"FirSpruceHint\", \"PineLarchHint\"],\n",
    "                  \"FruitType\": [\"Berry\", \"Cone\"],\n",
    "                  \"ConeShape\": [\"Elongated\", \"Oval\"]}\n",
    ")\n",
    "\n",
    "cpd_orientation = TabularCPD(\n",
    "    variable=\"Orientation\",\n",
    "    variable_card=2,\n",
    "    values=[[0.005], [0.995]],\n",
    "    state_names={\"Orientation\": [\"Upwards\", \"Downwards\"]}\n",
    ")\n",
    "\n",
    "cpd_fir_spruce = TabularCPD(\n",
    "    variable=\"FirSpruce\",\n",
    "    variable_card=3,\n",
    "    values=[[0.95, 0.04, 0.01, 0.01],\n",
    "            [0.03, 0.94, 0.01, 0.01],\n",
    "            [0.02, 0.02, 0.98, 0.98]],\n",
    "    evidence=[\"ConeShapeHint\", \"Orientation\"],\n",
    "    evidence_card=[2,2],\n",
    "    state_names={\"FirSpruce\": [\"Fir\", \"Spruce\", \"Other\"],\n",
    "                 \"ConeShapeHint\": [\"FirSpruceHint\", \"PineLarchHint\"],\n",
    "                 \"Orientation\": [\"Upwards\", \"Downwards\"]}\n",
    ")\n",
    "\n",
    "cpd_needle_count = TabularCPD(\n",
    "    variable=\"NeedleCount\",\n",
    "    variable_card=3,\n",
    "    values=[[0.2], [0.7], [0.1]],\n",
    "    state_names={\"NeedleCount\": [\"MoreThanTwenty\", \"AlwaysTwo\", \"AlwaysFive\"]}\n",
    ")\n",
    "\n",
    "cpd_needle_count_hint = TabularCPD(\n",
    "    variable=\"NeedleCountHint\",\n",
    "    variable_card=2,\n",
    "            # [[Larch | (FirSpruceHint, MoreThanTwenty), Larch | (FirSpruceHint, AlwaysTwo), Larch | (FirSpruceHint, AlwaysFive), Larch | (PineLarchHint, MoreThanTwenty), Larch | (PineLarchHint, AlwaysTwo), Larch | (PineLarchHint, AlwaysFive)],\n",
    "            # [TwoNeedlePine | (FirSpruceHint, MoreThanTwenty), TwoNeedlePine | (FirSpruceHint, AlwaysTwo), TwoNeedlePine | (FirSpruceHint, AlwaysFive), TwoNeedlePine | (PineLarchHint, MoreThanTwenty), TwoNeedlePine | (PineLarchHint,   AlwaysTwo), TwoNeedlePine | (PineLarchHint, AlwaysFive)]]\n",
    "    values=[[0.15, 0.05, 0.7, 0.85, 0.18, 0.2],\n",
    "            [0.85, 0.95, 0.3, 0.15, 0.82, 0.8]],\n",
    "    evidence=[\"ConeShapeHint\", \"NeedleCount\"],\n",
    "    evidence_card=[2,3],\n",
    "    state_names={\"NeedleCountHint\": [\"Larch\", \"TwoNeedlePine\"],\n",
    "                 \"ConeShapeHint\": [\"FirSpruceHint\", \"PineLarchHint\"],\n",
    "                 \"NeedleCount\": [\"MoreThanTwenty\", \"AlwaysTwo\", \"AlwaysFive\"]}\n",
    ")\n",
    "\n",
    "cpd_plant_shape = TabularCPD(\n",
    "    variable=\"PlantShape\",\n",
    "    variable_card=2,\n",
    "    values=[[0.1], [0.9]],\n",
    "    state_names={\"PlantShape\": [\"Bush\", \"Tree\"]}\n",
    ")\n",
    "\n",
    "cpd_cone_size = TabularCPD(\n",
    "    variable=\"ConeSize\",\n",
    "    variable_card=2,\n",
    "    values=[[0.15], [0.85]],\n",
    "    state_names={\"ConeSize\": [\"Small\", \"Big\"]}\n",
    ")\n",
    "\n",
    "cpd_pines = TabularCPD(\n",
    "    variable=\"Pines\",\n",
    "    variable_card=4,\n",
    "     # [[PinusMugo | (Larch, Bush, Small), PinusMugo | (Larch, Bush, Big), PinusMugo | (Larch, Tree, Small), PinusMugo | (Larch, Tree, Big),\n",
    "     #  PinusMugo | (TwoNeedlePine, Bush, Small), PinusMugo | (TwoNeedlePine, Bush, Big), PinusMugo | (TwoNeedlePine, Tree, Small), PinusMugo | (TwoNeedlePine, Tree, Big)],\n",
    "     # [ScotsPine | (Larch, Bush, Small), ScotsPine | (Larch, Bush, Big), ScotsPine | (Larch, Tree, Small), ScotsPine | (Larch, Tree, Big),\n",
    "     #  ScotsPine | (TwoNeedlePine, Bush, Small), ScotsPine | (TwoNeedlePine, Bush, Big), ScotsPine | (TwoNeedlePine, Tree, Small), ScotsPine | (TwoNeedlePine, Tree, Big)],\n",
    "     # [BlackPine | (Larch, Bush, Small), BlackPine | (Larch, Bush, Big), BlackPine | (Larch, Tree, Small), BlackPine | (Larch, Tree, Big),\n",
    "     #  BlackPine | (TwoNeedlePine, Bush, Small), BlackPine | (TwoNeedlePine, Bush, Big), BlackPine | (TwoNeedlePine, Tree, Small), BlackPine | (TwoNeedlePine, Tree, Big)],\n",
    "     # [Other | (Larch, Bush, Small), Other | (Larch, Bush, Big), Other | (Larch, Tree, Small), Other | (Larch, Tree, Big),\n",
    "     #  Other | (TwoNeedlePine, Bush, Small), Other | (TwoNeedlePine, Bush, Big), Other | (TwoNeedlePine, Tree, Small), Other | (TwoNeedlePine, Tree, Big)]]\n",
    "    values=[[0.12, 0.10, 0.06, 0.03, 0.75, 0.03, 0.09, 0.07],\n",
    "            [0.07, 0.04, 0.15, 0.12, 0.13, 0.14, 0.78, 0.16],\n",
    "            [0.03, 0.05, 0.11, 0.13, 0.07, 0.09, 0.12, 0.76],\n",
    "            [0.78, 0.81, 0.68, 0.72, 0.05, 0.74, 0.01, 0.01]],\n",
    "    evidence=[\"NeedleCountHint\", \"PlantShape\", \"ConeSize\"],\n",
    "    evidence_card=[2,2,2],\n",
    "    state_names={\"Pines\": [\"PinusMugo\", \"ScotsPine\", \"BlackPine\", \"Other\"],\n",
    "                 \"NeedleCountHint\": [\"Larch\", \"TwoNeedlePine\"],\n",
    "                 \"PlantShape\": [\"Bush\", \"Tree\"],\n",
    "                 \"ConeSize\": [\"Small\", \"Big\"]}\n",
    ")\n",
    "\n",
    "cpd_lemon_scent = TabularCPD(\n",
    "    variable=\"NeedleScent\",\n",
    "    variable_card=2,\n",
    "    values=[[0.3], [0.7]],\n",
    "    state_names={\"NeedleScent\": [\"Lemon\", \"Other\"]}\n",
    ")\n",
    "\n",
    "cpd_pseudotsuga = TabularCPD(\n",
    "    variable=\"Pseudotsuga\",\n",
    "    variable_card=2,\n",
    "    values=[[0.14, 0.02, 0.88, 0.16],   # [[Pseudotsuga | (Berry, LemonScent), Pseudotsuga | (Berry, OtherScent), Pseudotsuga | (Cone, LemonScent), Pseudotsuga | (Cone, OtherScent)],\n",
    "            [0.86, 0.98, 0.12, 0.84]],  # [Other | (Berry, LemonScent), Other | (Berry, OtherScent), Other | (Cone, LemonScent), Other | (Cone, OtherScent)]]\n",
    "    evidence=[\"FruitType\", \"NeedleScent\"],\n",
    "    evidence_card=[2,2],\n",
    "    state_names={\"Pseudotsuga\": [\"Yes\", \"No\"],\n",
    "                 \"FruitType\": [\"Berry\", \"Cone\"],\n",
    "                 \"NeedleScent\": [\"Lemon\", \"Other\"]}\n",
    ")\n",
    "\n",
    "cpd_cone_seed = TabularCPD(\n",
    "    variable=\"ConeSeed\",\n",
    "    variable_card=2,\n",
    "    values=[[0.25], [0.75]],\n",
    "    state_names={\"ConeSeed\": [\"Nut\", \"Wing\"]}\n",
    ")\n",
    "\n",
    "cpd_cone_seed_hint = TabularCPD(\n",
    "    variable=\"ConeSeedHint\",\n",
    "    variable_card=2,\n",
    "              # [PinusCembra | (MoreThanTwenty, Nut), PinusCembra | (MoreThanTwenty, Wing), PinusCembra | (AlwaysTwo, Nut), PinusCembra | (AlwaysTwo, Wing),\n",
    "              #  PinusCembra | (AlwaysFive, Nut), PinusCembra | (AlwaysFive, Wing)]\n",
    "              # [PinusStrobus | (MoreThanTwenty, Nut), PinusStrobus | (MoreThanTwenty, Wing), PinusStrobus | (AlwaysTwo, Nut), PinusStrobus | (AlwaysTwo, Wing),\n",
    "              #  PinusStrobus | (AlwaysFive, Nut), PinusStrobus | (AlwaysFive, Wing)]\n",
    "    values=[[0.09, 0.06, 0.12, 0.08, 0.82, 0.18],\n",
    "            [0.91, 0.94, 0.88, 0.92, 0.18, 0.82]],\n",
    "    evidence=[\"NeedleCount\", \"ConeSeed\"],\n",
    "    evidence_card=[3,2],\n",
    "    state_names={\"ConeSeedHint\": [\"PinusCembra\", \"PinusStrobus\"],\n",
    "                 \"NeedleCount\": [\"MoreThanTwenty\", \"AlwaysTwo\", \"AlwaysFive\"],\n",
    "                 \"ConeSeed\": [\"Nut\", \"Wing\"]}\n",
    ")\n",
    "\n",
    "# Associating the parameters with the model structure\n",
    "conifer_model.add_cpds(\n",
    "    cpd_fruit_type, cpd_color, cpd_berry_tree, cpd_cone_shape, cpd_cone_shape_hint, cpd_orientation, cpd_fir_spruce,\n",
    "    cpd_needle_count, cpd_needle_count_hint, cpd_plant_shape, cpd_cone_size, cpd_pines, cpd_lemon_scent, cpd_pseudotsuga, cpd_cone_seed, cpd_cone_seed_hint\n",
    ")"
   ]
  },
  {
   "cell_type": "code",
   "execution_count": 3,
   "metadata": {},
   "outputs": [
    {
     "data": {
      "text/plain": "True"
     },
     "execution_count": 3,
     "metadata": {},
     "output_type": "execute_result"
    }
   ],
   "source": [
    "# Checking if the cpds are valid for the model\n",
    "conifer_model.check_model()"
   ]
  },
  {
   "cell_type": "code",
   "execution_count": 4,
   "metadata": {},
   "outputs": [
    {
     "name": "stdout",
     "output_type": "stream",
     "text": [
      "+------------------+-----+\n",
      "| FruitType(Berry) | 0.1 |\n",
      "+------------------+-----+\n",
      "| FruitType(Cone)  | 0.9 |\n",
      "+------------------+-----+\n",
      "+-------------+------+\n",
      "| Color(Red)  | 0.05 |\n",
      "+-------------+------+\n",
      "| Color(Blue) | 0.95 |\n",
      "+-------------+------+\n",
      "+--------------------+-----+-----------------+\n",
      "| FruitType          | ... | FruitType(Cone) |\n",
      "+--------------------+-----+-----------------+\n",
      "| Color              | ... | Color(Blue)     |\n",
      "+--------------------+-----+-----------------+\n",
      "| BerryTree(Yew)     | ... | 0.001           |\n",
      "+--------------------+-----+-----------------+\n",
      "| BerryTree(Juniper) | ... | 0.001           |\n",
      "+--------------------+-----+-----------------+\n",
      "| BerryTree(Other)   | ... | 0.998           |\n",
      "+--------------------+-----+-----------------+\n",
      "+----------------------+-----+\n",
      "| ConeShape(Elongated) | 0.2 |\n",
      "+----------------------+-----+\n",
      "| ConeShape(Oval)      | 0.8 |\n",
      "+----------------------+-----+\n",
      "+------------------------+-------+\n",
      "| Orientation(Upwards)   | 0.005 |\n",
      "+------------------------+-------+\n",
      "| Orientation(Downwards) | 0.995 |\n",
      "+------------------------+-------+\n",
      "+-------------------+-----+------------------------------+\n",
      "| ConeShapeHint     | ... | ConeShapeHint(PineLarchHint) |\n",
      "+-------------------+-----+------------------------------+\n",
      "| Orientation       | ... | Orientation(Downwards)       |\n",
      "+-------------------+-----+------------------------------+\n",
      "| FirSpruce(Fir)    | ... | 0.01                         |\n",
      "+-------------------+-----+------------------------------+\n",
      "| FirSpruce(Spruce) | ... | 0.01                         |\n",
      "+-------------------+-----+------------------------------+\n",
      "| FirSpruce(Other)  | ... | 0.98                         |\n",
      "+-------------------+-----+------------------------------+\n",
      "+-----------------------------+-----+\n",
      "| NeedleCount(MoreThanTwenty) | 0.2 |\n",
      "+-----------------------------+-----+\n",
      "| NeedleCount(AlwaysTwo)      | 0.7 |\n",
      "+-----------------------------+-----+\n",
      "| NeedleCount(AlwaysFive)     | 0.1 |\n",
      "+-----------------------------+-----+\n",
      "+--------------------------------+-----+------------------------------+\n",
      "| ConeShapeHint                  | ... | ConeShapeHint(PineLarchHint) |\n",
      "+--------------------------------+-----+------------------------------+\n",
      "| NeedleCount                    | ... | NeedleCount(AlwaysFive)      |\n",
      "+--------------------------------+-----+------------------------------+\n",
      "| NeedleCountHint(Larch)         | ... | 0.2                          |\n",
      "+--------------------------------+-----+------------------------------+\n",
      "| NeedleCountHint(TwoNeedlePine) | ... | 0.8                          |\n",
      "+--------------------------------+-----+------------------------------+\n",
      "+------------------+-----+\n",
      "| PlantShape(Bush) | 0.1 |\n",
      "+------------------+-----+\n",
      "| PlantShape(Tree) | 0.9 |\n",
      "+------------------+-----+\n",
      "+-----------------+------+\n",
      "| ConeSize(Small) | 0.15 |\n",
      "+-----------------+------+\n",
      "| ConeSize(Big)   | 0.85 |\n",
      "+-----------------+------+\n",
      "+------------------+-----+--------------------------------+\n",
      "| NeedleCountHint  | ... | NeedleCountHint(TwoNeedlePine) |\n",
      "+------------------+-----+--------------------------------+\n",
      "| PlantShape       | ... | PlantShape(Tree)               |\n",
      "+------------------+-----+--------------------------------+\n",
      "| ConeSize         | ... | ConeSize(Big)                  |\n",
      "+------------------+-----+--------------------------------+\n",
      "| Pines(PinusMugo) | ... | 0.07                           |\n",
      "+------------------+-----+--------------------------------+\n",
      "| Pines(ScotsPine) | ... | 0.16                           |\n",
      "+------------------+-----+--------------------------------+\n",
      "| Pines(BlackPine) | ... | 0.76                           |\n",
      "+------------------+-----+--------------------------------+\n",
      "| Pines(Other)     | ... | 0.01                           |\n",
      "+------------------+-----+--------------------------------+\n",
      "+--------------------+-----+\n",
      "| NeedleScent(Lemon) | 0.3 |\n",
      "+--------------------+-----+\n",
      "| NeedleScent(Other) | 0.7 |\n",
      "+--------------------+-----+\n",
      "+------------------+-----+--------------------+\n",
      "| FruitType        | ... | FruitType(Cone)    |\n",
      "+------------------+-----+--------------------+\n",
      "| NeedleScent      | ... | NeedleScent(Other) |\n",
      "+------------------+-----+--------------------+\n",
      "| Pseudotsuga(Yes) | ... | 0.16               |\n",
      "+------------------+-----+--------------------+\n",
      "| Pseudotsuga(No)  | ... | 0.84               |\n",
      "+------------------+-----+--------------------+\n",
      "+----------------+------+\n",
      "| ConeSeed(Nut)  | 0.25 |\n",
      "+----------------+------+\n",
      "| ConeSeed(Wing) | 0.75 |\n",
      "+----------------+------+\n",
      "+----------------------------+-----+-------------------------+\n",
      "| NeedleCount                | ... | NeedleCount(AlwaysFive) |\n",
      "+----------------------------+-----+-------------------------+\n",
      "| ConeSeed                   | ... | ConeSeed(Wing)          |\n",
      "+----------------------------+-----+-------------------------+\n",
      "| ConeSeedHint(PinusCembra)  | ... | 0.18                    |\n",
      "+----------------------------+-----+-------------------------+\n",
      "| ConeSeedHint(PinusStrobus) | ... | 0.82                    |\n",
      "+----------------------------+-----+-------------------------+\n"
     ]
    }
   ],
   "source": [
    "print(cpd_fruit_type)\n",
    "print(cpd_color)\n",
    "print(cpd_berry_tree)\n",
    "print(cpd_cone_shape)\n",
    "print(cpd_orientation)\n",
    "print(cpd_fir_spruce)\n",
    "print(cpd_needle_count)\n",
    "print(cpd_needle_count_hint)\n",
    "print(cpd_plant_shape)\n",
    "print(cpd_cone_size)\n",
    "print(cpd_pines)\n",
    "print(cpd_lemon_scent)\n",
    "print(cpd_pseudotsuga)\n",
    "print(cpd_cone_seed)\n",
    "print(cpd_cone_seed_hint)"
   ]
  },
  {
   "cell_type": "code",
   "execution_count": 5,
   "metadata": {},
   "outputs": [
    {
     "data": {
      "text/plain": "NodeView(('FruitType', 'BerryTree', 'Color', 'ConeShapeHint', 'ConeShape', 'FirSpruce', 'Orientation', 'NeedleCountHint', 'NeedleCount', 'Pines', 'PlantShape', 'ConeSize', 'Pseudotsuga', 'NeedleScent', 'ConeSeedHint', 'ConeSeed'))"
     },
     "execution_count": 5,
     "metadata": {},
     "output_type": "execute_result"
    }
   ],
   "source": [
    "# Viewing nodes of the model\n",
    "conifer_model.nodes()"
   ]
  },
  {
   "cell_type": "code",
   "execution_count": 6,
   "metadata": {},
   "outputs": [
    {
     "data": {
      "text/plain": "OutEdgeView([('FruitType', 'BerryTree'), ('FruitType', 'ConeShapeHint'), ('FruitType', 'Pseudotsuga'), ('Color', 'BerryTree'), ('ConeShapeHint', 'FirSpruce'), ('ConeShapeHint', 'NeedleCountHint'), ('ConeShape', 'ConeShapeHint'), ('Orientation', 'FirSpruce'), ('NeedleCountHint', 'Pines'), ('NeedleCount', 'NeedleCountHint'), ('NeedleCount', 'ConeSeedHint'), ('PlantShape', 'Pines'), ('ConeSize', 'Pines'), ('NeedleScent', 'Pseudotsuga'), ('ConeSeed', 'ConeSeedHint')])"
     },
     "execution_count": 6,
     "metadata": {},
     "output_type": "execute_result"
    }
   ],
   "source": [
    "# Viewing edges of the model\n",
    "conifer_model.edges()"
   ]
  },
  {
   "cell_type": "code",
   "execution_count": 7,
   "metadata": {},
   "outputs": [],
   "source": [
    "# Listing all Independencies\n",
    "#conifer_model.get_independencies()"
   ]
  },
  {
   "cell_type": "markdown",
   "source": [
    "## Inference"
   ],
   "metadata": {
    "collapsed": false
   }
  },
  {
   "cell_type": "code",
   "execution_count": 8,
   "metadata": {},
   "outputs": [],
   "source": [
    "conifer_infer = VariableElimination(conifer_model)"
   ]
  },
  {
   "cell_type": "markdown",
   "source": [
    "### Juniper"
   ],
   "metadata": {
    "collapsed": false
   }
  },
  {
   "cell_type": "code",
   "execution_count": 9,
   "metadata": {},
   "outputs": [
    {
     "name": "stdout",
     "output_type": "stream",
     "text": [
      "+--------------------+------------------+\n",
      "| BerryTree          |   phi(BerryTree) |\n",
      "+====================+==================+\n",
      "| BerryTree(Yew)     |           0.0500 |\n",
      "+--------------------+------------------+\n",
      "| BerryTree(Juniper) |           0.9000 |\n",
      "+--------------------+------------------+\n",
      "| BerryTree(Other)   |           0.0500 |\n",
      "+--------------------+------------------+\n"
     ]
    }
   ],
   "source": [
    "q = conifer_infer.query(variables=[\"BerryTree\"], evidence={\n",
    "    \"FruitType\": \"Berry\",\n",
    "    \"Color\": \"Blue\"\n",
    "})\n",
    "\n",
    "print(q)"
   ]
  },
  {
   "cell_type": "markdown",
   "source": [
    "### Yew"
   ],
   "metadata": {
    "collapsed": false
   }
  },
  {
   "cell_type": "code",
   "execution_count": 10,
   "outputs": [
    {
     "name": "stdout",
     "output_type": "stream",
     "text": [
      "+--------------------+------------------+\n",
      "| BerryTree          |   phi(BerryTree) |\n",
      "+====================+==================+\n",
      "| BerryTree(Yew)     |           0.9000 |\n",
      "+--------------------+------------------+\n",
      "| BerryTree(Juniper) |           0.0300 |\n",
      "+--------------------+------------------+\n",
      "| BerryTree(Other)   |           0.0700 |\n",
      "+--------------------+------------------+\n"
     ]
    }
   ],
   "source": [
    "p = conifer_infer.query(variables=[\"BerryTree\"], evidence={\n",
    "    \"FruitType\": \"Berry\",\n",
    "    \"Color\": \"Red\"\n",
    "})\n",
    "\n",
    "print(p)"
   ],
   "metadata": {
    "collapsed": false
   }
  },
  {
   "cell_type": "markdown",
   "source": [
    "### Fir"
   ],
   "metadata": {
    "collapsed": false
   }
  },
  {
   "cell_type": "code",
   "execution_count": 11,
   "metadata": {},
   "outputs": [
    {
     "name": "stdout",
     "output_type": "stream",
     "text": [
      "+-------------------+------------------+\n",
      "| FirSpruce         |   phi(FirSpruce) |\n",
      "+===================+==================+\n",
      "| FirSpruce(Fir)    |           0.9124 |\n",
      "+-------------------+------------------+\n",
      "| FirSpruce(Spruce) |           0.0292 |\n",
      "+-------------------+------------------+\n",
      "| FirSpruce(Other)  |           0.0584 |\n",
      "+-------------------+------------------+\n"
     ]
    }
   ],
   "source": [
    "p = conifer_infer.query(variables=[\"FirSpruce\"], evidence={\n",
    "    \"FruitType\": \"Cone\",\n",
    "    \"ConeShape\": \"Elongated\",\n",
    "    \"Orientation\": \"Upwards\"\n",
    "})\n",
    "\n",
    "print(p)"
   ]
  },
  {
   "cell_type": "markdown",
   "source": [
    "### Spruce"
   ],
   "metadata": {
    "collapsed": false
   }
  },
  {
   "cell_type": "code",
   "execution_count": 12,
   "outputs": [
    {
     "name": "stdout",
     "output_type": "stream",
     "text": [
      "+-------------------+------------------+\n",
      "| FirSpruce         |   phi(FirSpruce) |\n",
      "+===================+==================+\n",
      "| FirSpruce(Fir)    |           0.0388 |\n",
      "+-------------------+------------------+\n",
      "| FirSpruce(Spruce) |           0.9028 |\n",
      "+-------------------+------------------+\n",
      "| FirSpruce(Other)  |           0.0584 |\n",
      "+-------------------+------------------+\n"
     ]
    }
   ],
   "source": [
    "p = conifer_infer.query(variables=[\"FirSpruce\"], evidence={\n",
    "    \"FruitType\": \"Cone\",\n",
    "    \"ConeShape\": \"Elongated\",\n",
    "    \"Orientation\": \"Downwards\"\n",
    "})\n",
    "\n",
    "print(p)"
   ],
   "metadata": {
    "collapsed": false
   }
  },
  {
   "cell_type": "markdown",
   "source": [
    "### Larch"
   ],
   "metadata": {
    "collapsed": false
   }
  },
  {
   "cell_type": "code",
   "execution_count": 13,
   "outputs": [
    {
     "name": "stdout",
     "output_type": "stream",
     "text": [
      "+--------------------------------+------------------------+\n",
      "| NeedleCountHint                |   phi(NeedleCountHint) |\n",
      "+================================+========================+\n",
      "| NeedleCountHint(Larch)         |                 0.7800 |\n",
      "+--------------------------------+------------------------+\n",
      "| NeedleCountHint(TwoNeedlePine) |                 0.2200 |\n",
      "+--------------------------------+------------------------+\n"
     ]
    }
   ],
   "source": [
    "p = conifer_infer.query(variables=[\"NeedleCountHint\"], evidence={\n",
    "    \"FruitType\": \"Cone\",\n",
    "    \"ConeShape\": \"Oval\",\n",
    "    \"NeedleCount\": \"MoreThanTwenty\"\n",
    "})\n",
    "\n",
    "print(p)"
   ],
   "metadata": {
    "collapsed": false
   }
  },
  {
   "cell_type": "markdown",
   "source": [
    "### Pinus Mugo"
   ],
   "metadata": {
    "collapsed": false
   }
  },
  {
   "cell_type": "code",
   "execution_count": 14,
   "outputs": [
    {
     "name": "stdout",
     "output_type": "stream",
     "text": [
      "+------------------+--------------+\n",
      "| Pines            |   phi(Pines) |\n",
      "+==================+==============+\n",
      "| Pines(PinusMugo) |       0.6448 |\n",
      "+------------------+--------------+\n",
      "| Pines(ScotsPine) |       0.1200 |\n",
      "+------------------+--------------+\n",
      "| Pines(BlackPine) |       0.0633 |\n",
      "+------------------+--------------+\n",
      "| Pines(Other)     |       0.1719 |\n",
      "+------------------+--------------+\n"
     ]
    }
   ],
   "source": [
    "p = conifer_infer.query(variables=[\"Pines\"], evidence={\n",
    "    \"FruitType\": \"Cone\",\n",
    "    \"ConeShape\": \"Oval\",\n",
    "    \"NeedleCount\": \"AlwaysTwo\",\n",
    "    \"PlantShape\": \"Bush\",\n",
    "    \"ConeSize\": \"Small\"\n",
    "})\n",
    "\n",
    "print(p)"
   ],
   "metadata": {
    "collapsed": false
   }
  },
  {
   "cell_type": "markdown",
   "source": [
    "### Scots Pine"
   ],
   "metadata": {
    "collapsed": false
   }
  },
  {
   "cell_type": "code",
   "execution_count": 15,
   "outputs": [
    {
     "name": "stdout",
     "output_type": "stream",
     "text": [
      "+------------------+--------------+\n",
      "| Pines            |   phi(Pines) |\n",
      "+==================+==============+\n",
      "| Pines(PinusMugo) |       0.1410 |\n",
      "+------------------+--------------+\n",
      "| Pines(ScotsPine) |       0.6193 |\n",
      "+------------------+--------------+\n",
      "| Pines(BlackPine) |       0.1128 |\n",
      "+------------------+--------------+\n",
      "| Pines(Other)     |       0.1269 |\n",
      "+------------------+--------------+\n"
     ]
    }
   ],
   "source": [
    "p = conifer_infer.query(variables=[\"Pines\"], evidence={\n",
    "    \"FruitType\": \"Cone\",\n",
    "    \"ConeShape\": \"Oval\",\n",
    "    \"NeedleCount\": \"AlwaysTwo\",\n",
    "    \"ConeSize\": \"Small\"\n",
    "})\n",
    "\n",
    "print(p)"
   ],
   "metadata": {
    "collapsed": false
   }
  },
  {
   "cell_type": "markdown",
   "source": [
    "### Black Pine"
   ],
   "metadata": {
    "collapsed": false
   }
  },
  {
   "cell_type": "code",
   "execution_count": 16,
   "outputs": [
    {
     "name": "stdout",
     "output_type": "stream",
     "text": [
      "+------------------+--------------+\n",
      "| Pines            |   phi(Pines) |\n",
      "+==================+==============+\n",
      "| Pines(PinusMugo) |       0.0612 |\n",
      "+------------------+--------------+\n",
      "| Pines(ScotsPine) |       0.1503 |\n",
      "+------------------+--------------+\n",
      "| Pines(BlackPine) |       0.5976 |\n",
      "+------------------+--------------+\n",
      "| Pines(Other)     |       0.1909 |\n",
      "+------------------+--------------+\n"
     ]
    }
   ],
   "source": [
    "p = conifer_infer.query(variables=[\"Pines\"], evidence={\n",
    "    \"FruitType\": \"Cone\",\n",
    "    \"ConeShape\": \"Oval\",\n",
    "    \"NeedleCount\": \"AlwaysTwo\",\n",
    "    \"ConeSize\": \"Big\"\n",
    "})\n",
    "\n",
    "print(p)"
   ],
   "metadata": {
    "collapsed": false
   }
  },
  {
   "cell_type": "markdown",
   "source": [
    "### Pseudotsuga"
   ],
   "metadata": {
    "collapsed": false
   }
  },
  {
   "cell_type": "code",
   "execution_count": 17,
   "outputs": [
    {
     "name": "stdout",
     "output_type": "stream",
     "text": [
      "+------------------+--------------------+\n",
      "| Pseudotsuga      |   phi(Pseudotsuga) |\n",
      "+==================+====================+\n",
      "| Pseudotsuga(Yes) |             0.8800 |\n",
      "+------------------+--------------------+\n",
      "| Pseudotsuga(No)  |             0.1200 |\n",
      "+------------------+--------------------+\n"
     ]
    }
   ],
   "source": [
    "p = conifer_infer.query(variables=[\"Pseudotsuga\"], evidence={\n",
    "    \"FruitType\": \"Cone\",\n",
    "    \"NeedleScent\": \"Lemon\"\n",
    "})\n",
    "\n",
    "print(p)"
   ],
   "metadata": {
    "collapsed": false
   }
  },
  {
   "cell_type": "markdown",
   "source": [
    "### Pinus Cembra"
   ],
   "metadata": {
    "collapsed": false
   }
  },
  {
   "cell_type": "code",
   "execution_count": 18,
   "outputs": [
    {
     "name": "stdout",
     "output_type": "stream",
     "text": [
      "+----------------------------+---------------------+\n",
      "| ConeSeedHint               |   phi(ConeSeedHint) |\n",
      "+============================+=====================+\n",
      "| ConeSeedHint(PinusCembra)  |              0.8200 |\n",
      "+----------------------------+---------------------+\n",
      "| ConeSeedHint(PinusStrobus) |              0.1800 |\n",
      "+----------------------------+---------------------+\n"
     ]
    }
   ],
   "source": [
    "p = conifer_infer.query(variables=[\"ConeSeedHint\"], evidence={\n",
    "    \"NeedleCount\": \"AlwaysFive\",\n",
    "    \"ConeSeed\": \"Nut\"\n",
    "})\n",
    "\n",
    "print(p)"
   ],
   "metadata": {
    "collapsed": false
   }
  },
  {
   "cell_type": "markdown",
   "source": [
    "### Pinus Strobus"
   ],
   "metadata": {
    "collapsed": false
   }
  },
  {
   "cell_type": "code",
   "execution_count": 19,
   "outputs": [
    {
     "name": "stdout",
     "output_type": "stream",
     "text": [
      "+----------------------------+---------------------+\n",
      "| ConeSeedHint               |   phi(ConeSeedHint) |\n",
      "+============================+=====================+\n",
      "| ConeSeedHint(PinusCembra)  |              0.1800 |\n",
      "+----------------------------+---------------------+\n",
      "| ConeSeedHint(PinusStrobus) |              0.8200 |\n",
      "+----------------------------+---------------------+\n"
     ]
    }
   ],
   "source": [
    "p = conifer_infer.query(variables=[\"ConeSeedHint\"], evidence={\n",
    "    \"NeedleCount\": \"AlwaysFive\",\n",
    "    \"ConeSeed\": \"Wing\"\n",
    "})\n",
    "\n",
    "print(p)"
   ],
   "metadata": {
    "collapsed": false
   }
  },
  {
   "cell_type": "code",
   "execution_count": null,
   "outputs": [],
   "source": [],
   "metadata": {
    "collapsed": false
   }
  }
 ],
 "metadata": {
  "kernelspec": {
   "display_name": "Python 3 (ipykernel)",
   "language": "python",
   "name": "python3"
  },
  "language_info": {
   "codemirror_mode": {
    "name": "ipython",
    "version": 3
   },
   "file_extension": ".py",
   "mimetype": "text/x-python",
   "name": "python",
   "nbconvert_exporter": "python",
   "pygments_lexer": "ipython3",
   "version": "3.10.4"
  }
 },
 "nbformat": 4,
 "nbformat_minor": 4
}
