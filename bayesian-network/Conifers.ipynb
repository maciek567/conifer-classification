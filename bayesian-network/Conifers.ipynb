{
 "cells": [
  {
   "cell_type": "markdown",
   "metadata": {},
   "source": [
    "# Conifer classifier\n"
   ]
  },
  {
   "cell_type": "code",
   "execution_count": 81,
   "metadata": {},
   "outputs": [],
   "source": [
    "# Importing Library\n",
    "# !pip install pgmpy\n",
    "from pgmpy.models import BayesianNetwork\n",
    "from pgmpy.inference import VariableElimination\n",
    "\n",
    "# Defining the parameters using CPT\n",
    "from pgmpy.factors.discrete import TabularCPD"
   ]
  },
  {
   "cell_type": "code",
   "execution_count": 82,
   "metadata": {},
   "outputs": [],
   "source": [
    "# Defining network structure\n",
    "\n",
    "conifer_model = BayesianNetwork(\n",
    "    [\n",
    "        (\"FruitType\", \"BerryTree\"),\n",
    "        (\"Color\", \"BerryTree\"),\n",
    "        (\"FruitType\", \"ConeShapeHint\"),\n",
    "        (\"ConeShape\", \"ConeShapeHint\"),\n",
    "        (\"ConeShapeHint\", \"FirSpruce\"),\n",
    "        (\"Orientation\", \"FirSpruce\")\n",
    "    ]\n",
    ")\n",
    "\n",
    "cpd_fruit_type = TabularCPD(\n",
    "    variable=\"FruitType\",\n",
    "    variable_card=2,\n",
    "    values=[[0.1], [0.9]],\n",
    "    state_names={\"FruitType\": [\"Berry\", \"Cone\"]}\n",
    ")\n",
    "\n",
    "cpd_color = TabularCPD(\n",
    "    variable=\"Color\",\n",
    "    variable_card=2,\n",
    "    values=[[0.05], [0.95]],\n",
    "    state_names={\"Color\": [\"Red\", \"Blue\"]}\n",
    ")\n",
    "\n",
    "cpd_berry_tree = TabularCPD(\n",
    "    variable=\"BerryTree\",\n",
    "    variable_card=3,\n",
    "    values=[[0.9, 0.05, 0.001, 0.001], # [[Yew | (berry, red), Yew | (berry, blue), Yew | (cone, red), Yew | (cone, blue)],\n",
    "            [0.03, 0.9, 0.001, 0.001], # [Juniper | (berry, red), Juniper | (berry, blue), Juniper | (cone, red), Juniper | (cone, blue)]]\n",
    "            [0.07, 0.05, 0.998, 0.998]],  \n",
    "    evidence=[\"FruitType\", \"Color\"],\n",
    "    evidence_card=[2, 2],\n",
    "    state_names={\"BerryTree\": [\"Yew\", \"Juniper\", \"Other\"], \n",
    "                 \"FruitType\": [\"Berry\", \"Cone\"], \n",
    "                 \"Color\": [\"Red\", \"Blue\"]}\n",
    ")\n",
    "\n",
    "cpd_cone_shape = TabularCPD(\n",
    "    variable=\"ConeShape\",\n",
    "    variable_card=2,\n",
    "    values=[[0.2], [0.8]],\n",
    "    state_names={\"ConeShape\": [\"Elongated\", \"Oval\"]}\n",
    ")\n",
    "\n",
    "cpd_cone_shape_hint = TabularCPD(\n",
    "    variable=\"ConeShapeHint\",\n",
    "    variable_card=2,\n",
    "    values=[[0.01, 0.01, 0.96, 0.1], # [[FirSpruceHint | (berry, elongated), FirSpruceHint | (berry, oval), FirSpruceHint | (cone, elongated), FirSpruceHint | (cone, oval)]\n",
    "            [0.99, 0.99, 0.04, 0.9]],      # [PineLarchHint | (berry, elongated), PineLarchHint | (berry, oval), PineLarchHint | (cone, elongated), PineLarchHint | (cone, oval)]]\n",
    "    evidence=[\"FruitType\", \"ConeShape\"],\n",
    "    evidence_card=[2,2],\n",
    "    state_names={\"ConeShapeHint\": [\"FirSpruceHint\", \"PineLarchHint\"],\n",
    "                  \"FruitType\": [\"Berry\", \"Cone\"],\n",
    "                  \"ConeShape\": [\"Elongated\", \"Oval\"]}\n",
    ")\n",
    "\n",
    "cpd_orientation = TabularCPD(\n",
    "    variable=\"Orientation\",\n",
    "    variable_card=2,\n",
    "    values=[[0.005], [0.995]],\n",
    "    state_names={\"Orientation\": [\"Upwards\", \"Downwards\"]}\n",
    ")\n",
    "\n",
    "cpd_fir_spruce = TabularCPD(\n",
    "    variable=\"FirSpruce\",\n",
    "    variable_card=3,\n",
    "    values=[[0.95, 0.04, 0.01, 0.01],\n",
    "            [0.03, 0.94, 0.01, 0.01],\n",
    "            [0.02, 0.02, 0.98, 0.98]],\n",
    "    evidence=[\"ConeShapeHint\", \"Orientation\"],\n",
    "    evidence_card=[2,2],\n",
    "    state_names={\"FirSpruce\": [\"Fir\", \"Spruce\", \"Other\"],\n",
    "                 \"ConeShapeHint\": [\"FirSpruceHint\", \"PineLarchHint\"],\n",
    "                 \"Orientation\": [\"Upwards\", \"Downwards\"]}\n",
    ")\n",
    "\n",
    "cpd_needle_count = TabularCPD(\n",
    "    variable=\"NeedleCount\",\n",
    "    variable_card=2,\n",
    "    values=[[0.2], [0.8]],\n",
    "    state_names={\"NeedleCount\": [\"AlwaysTwo\", \"MoreThanTwenty\"]}\n",
    ")\n",
    "\n",
    "# Associating the parameters with the model structure\n",
    "conifer_model.add_cpds(\n",
    "    cpd_fruit_type, cpd_color, cpd_berry_tree, cpd_cone_shape, cpd_cone_shape_hint, cpd_orientation, cpd_fir_spruce\n",
    ")"
   ]
  },
  {
   "cell_type": "code",
   "execution_count": 83,
   "metadata": {},
   "outputs": [
    {
     "data": {
      "text/plain": "True"
     },
     "execution_count": 83,
     "metadata": {},
     "output_type": "execute_result"
    }
   ],
   "source": [
    "# Checking if the cpds are valid for the model\n",
    "conifer_model.check_model()"
   ]
  },
  {
   "cell_type": "code",
   "execution_count": 84,
   "metadata": {},
   "outputs": [
    {
     "name": "stdout",
     "output_type": "stream",
     "text": [
      "+------------------+-----+\n",
      "| FruitType(Berry) | 0.1 |\n",
      "+------------------+-----+\n",
      "| FruitType(Cone)  | 0.9 |\n",
      "+------------------+-----+\n",
      "+-------------+------+\n",
      "| Color(Red)  | 0.05 |\n",
      "+-------------+------+\n",
      "| Color(Blue) | 0.95 |\n",
      "+-------------+------+\n",
      "+--------------------+-----+-----------------+\n",
      "| FruitType          | ... | FruitType(Cone) |\n",
      "+--------------------+-----+-----------------+\n",
      "| Color              | ... | Color(Blue)     |\n",
      "+--------------------+-----+-----------------+\n",
      "| BerryTree(Yew)     | ... | 0.001           |\n",
      "+--------------------+-----+-----------------+\n",
      "| BerryTree(Juniper) | ... | 0.001           |\n",
      "+--------------------+-----+-----------------+\n",
      "| BerryTree(Other)   | ... | 0.998           |\n",
      "+--------------------+-----+-----------------+\n",
      "+----------------------+-----+\n",
      "| ConeShape(Elongated) | 0.2 |\n",
      "+----------------------+-----+\n",
      "| ConeShape(Oval)      | 0.8 |\n",
      "+----------------------+-----+\n",
      "+------------------------+-------+\n",
      "| Orientation(Upwards)   | 0.005 |\n",
      "+------------------------+-------+\n",
      "| Orientation(Downwards) | 0.995 |\n",
      "+------------------------+-------+\n",
      "+-------------------+-----+------------------------------+\n",
      "| ConeShapeHint     | ... | ConeShapeHint(PineLarchHint) |\n",
      "+-------------------+-----+------------------------------+\n",
      "| Orientation       | ... | Orientation(Downwards)       |\n",
      "+-------------------+-----+------------------------------+\n",
      "| FirSpruce(Fir)    | ... | 0.01                         |\n",
      "+-------------------+-----+------------------------------+\n",
      "| FirSpruce(Spruce) | ... | 0.01                         |\n",
      "+-------------------+-----+------------------------------+\n",
      "| FirSpruce(Other)  | ... | 0.98                         |\n",
      "+-------------------+-----+------------------------------+\n"
     ]
    }
   ],
   "source": [
    "print(cpd_fruit_type)\n",
    "print(cpd_color)\n",
    "print(cpd_berry_tree)\n",
    "print(cpd_cone_shape)\n",
    "print(cpd_orientation)\n",
    "print(cpd_fir_spruce)"
   ]
  },
  {
   "cell_type": "code",
   "execution_count": 85,
   "metadata": {},
   "outputs": [
    {
     "data": {
      "text/plain": "NodeView(('FruitType', 'BerryTree', 'Color', 'ConeShapeHint', 'ConeShape', 'FirSpruce', 'Orientation'))"
     },
     "execution_count": 85,
     "metadata": {},
     "output_type": "execute_result"
    }
   ],
   "source": [
    "# Viewing nodes of the model\n",
    "conifer_model.nodes()"
   ]
  },
  {
   "cell_type": "code",
   "execution_count": 86,
   "metadata": {},
   "outputs": [
    {
     "data": {
      "text/plain": "OutEdgeView([('FruitType', 'BerryTree'), ('FruitType', 'ConeShapeHint'), ('Color', 'BerryTree'), ('ConeShapeHint', 'FirSpruce'), ('ConeShape', 'ConeShapeHint'), ('Orientation', 'FirSpruce')])"
     },
     "execution_count": 86,
     "metadata": {},
     "output_type": "execute_result"
    }
   ],
   "source": [
    "# Viewing edges of the model\n",
    "conifer_model.edges()"
   ]
  },
  {
   "cell_type": "code",
   "execution_count": 87,
   "metadata": {},
   "outputs": [],
   "source": [
    "# Listing all Independencies\n",
    "#conifer_model.get_independencies()"
   ]
  },
  {
   "cell_type": "code",
   "execution_count": 88,
   "metadata": {},
   "outputs": [],
   "source": [
    "conifer_infer = VariableElimination(conifer_model)"
   ]
  },
  {
   "cell_type": "code",
   "execution_count": 89,
   "metadata": {},
   "outputs": [
    {
     "name": "stdout",
     "output_type": "stream",
     "text": [
      "+--------------------+------------------+\n",
      "| BerryTree          |   phi(BerryTree) |\n",
      "+====================+==================+\n",
      "| BerryTree(Yew)     |           0.0500 |\n",
      "+--------------------+------------------+\n",
      "| BerryTree(Juniper) |           0.9000 |\n",
      "+--------------------+------------------+\n",
      "| BerryTree(Other)   |           0.0500 |\n",
      "+--------------------+------------------+\n"
     ]
    }
   ],
   "source": [
    "q = conifer_infer.query(variables=[\"BerryTree\"], evidence={\n",
    "    \"FruitType\": \"Berry\",\n",
    "    \"Color\": \"Blue\"\n",
    "})\n",
    "\n",
    "print(q)"
   ]
  },
  {
   "cell_type": "code",
   "execution_count": 90,
   "outputs": [
    {
     "name": "stdout",
     "output_type": "stream",
     "text": [
      "+--------------------+------------------+\n",
      "| BerryTree          |   phi(BerryTree) |\n",
      "+====================+==================+\n",
      "| BerryTree(Yew)     |           0.9000 |\n",
      "+--------------------+------------------+\n",
      "| BerryTree(Juniper) |           0.0300 |\n",
      "+--------------------+------------------+\n",
      "| BerryTree(Other)   |           0.0700 |\n",
      "+--------------------+------------------+\n"
     ]
    }
   ],
   "source": [
    "p = conifer_infer.query(variables=[\"BerryTree\"], evidence={\n",
    "    \"FruitType\": \"Berry\",\n",
    "    \"Color\": \"Red\"\n",
    "})\n",
    "\n",
    "print(p)"
   ],
   "metadata": {
    "collapsed": false
   }
  },
  {
   "cell_type": "code",
   "execution_count": 90,
   "metadata": {},
   "outputs": [],
   "source": []
  }
 ],
 "metadata": {
  "kernelspec": {
   "display_name": "Python 3 (ipykernel)",
   "language": "python",
   "name": "python3"
  },
  "language_info": {
   "codemirror_mode": {
    "name": "ipython",
    "version": 3
   },
   "file_extension": ".py",
   "mimetype": "text/x-python",
   "name": "python",
   "nbconvert_exporter": "python",
   "pygments_lexer": "ipython3",
   "version": "3.10.4"
  }
 },
 "nbformat": 4,
 "nbformat_minor": 4
}
